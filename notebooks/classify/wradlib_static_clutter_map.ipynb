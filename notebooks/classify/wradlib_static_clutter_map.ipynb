{
 "cells": [
  {
   "cell_type": "markdown",
   "metadata": {
    "nbsphinx": "hidden"
   },
   "source": [
    "This notebook is part of the $\\omega radlib$ documentation: https://docs.wradlib.org.\n",
    "\n",
    "Copyright (c) $\\omega radlib$ developers.\n",
    "Distributed under the MIT License. See LICENSE.txt for more info."
   ]
  },
  {
   "cell_type": "markdown",
   "metadata": {
    "collapsed": true
   },
   "source": [
    "# Static clutter map\n",
    "\n",
    "Detects the average level of the returned signal. It is recommended to use at least one month of data."
   ]
  },
  {
   "cell_type": "code",
   "execution_count": null,
   "metadata": {},
   "outputs": [],
   "source": [
    "try:\n",
    "    %load_ext line_profiler\n",
    "    %load_ext memory_profiler\n",
    "except:\n",
    "    pass\n",
    "\n",
    "\n",
    "import glob\n",
    "import os\n",
    "import warnings\n",
    "\n",
    "import numpy as np\n",
    "import matplotlib\n",
    "import matplotlib.pyplot as pl\n",
    "warnings.filterwarnings('ignore')\n",
    "try:\n",
    "    get_ipython().magic(\"matplotlib inline\")\n",
    "except:\n",
    "    pl.ion()\n",
    "\n",
    "import wradlib as wrl\n",
    "import wradlib.clutter as clutter\n",
    "import wradlib.util as util\n",
    "import wradlib.vis as vis"
   ]
  },
  {
   "cell_type": "code",
   "execution_count": null,
   "metadata": {},
   "outputs": [],
   "source": [
    "import sys\n",
    "import os\n",
    "import psutil\n",
    "process = psutil.Process(os.getpid())"
   ]
  },
  {
   "cell_type": "markdown",
   "metadata": {},
   "source": [
    "### Load sweep data"
   ]
  },
  {
   "cell_type": "code",
   "execution_count": null,
   "metadata": {
    "scrolled": true
   },
   "outputs": [],
   "source": [
    "wrl_path = util.get_wradlib_data_path()\n",
    "path = os.path.join(wrl_path,'hdf5/bejab/*dB*')\n",
    "\n",
    "files = glob.glob(path)\n",
    "files.sort()\n",
    "#files = files[0:10]\n",
    "#print(files)\n",
    "\n",
    "pvol = wrl.io.xarray.open_odim(files,\n",
    "                               parallel=True,\n",
    "                               mask_and_scale=True,\n",
    "                               loader=\"h5py\",\n",
    "                               chunks={}\n",
    "                              )\n",
    "print(process.memory_info().rss)"
   ]
  },
  {
   "cell_type": "markdown",
   "metadata": {},
   "source": [
    "\n",
    "### Select and decode data"
   ]
  },
  {
   "cell_type": "code",
   "execution_count": null,
   "metadata": {},
   "outputs": [],
   "source": [
    "sweep = pvol[-1]\n",
    "print(process.memory_info().rss)\n",
    "elangle = str(sweep[0].fixed_angle)\n",
    "print(elangle)\n",
    "sweep = sweep.data\n",
    "print(sweep)\n",
    "print(process.memory_info().rss)\n",
    "maxdist = 100\n",
    "sweep = sweep.sel(range=slice(0,maxdist*1E3))\n",
    "startdate = str(sweep.time.values[0])[:10]\n",
    "enddate = str(sweep.time.values[-1])[:10]\n",
    "\n",
    "\n",
    "print(process.memory_info().rss)\n"
   ]
  },
  {
   "cell_type": "markdown",
   "metadata": {},
   "source": [
    "\n",
    "### Restore values removed by CSR (optional)"
   ]
  },
  {
   "cell_type": "raw",
   "metadata": {},
   "source": [
    "sweep = pvol[-1][0].data\n",
    "sweep = sweep.pipe(wrl.georef.georeference_dataset)\n",
    "th = sweep[\"TH\"]\n",
    "dbzh = sweep[\"DBZH\"]\n",
    "\n",
    "dbzh.wradlib.plot_ppi(vmin=0, vmax=50)\n",
    "\n",
    "clutter.fix_csr(dbzh.values, th.values, debug=True)\n",
    "print(process.memory_info().rss)\n",
    "\n",
    "#sweep = sweep.isel(azimuth=slice(75,85))\n",
    "#sweep = sweep.isel(range=slice(95,105))\n",
    "\n",
    "sweep['TH'].wradlib.plot_ppi(vmin=0, vmax=50)\n",
    "sweep['DBZH'].wradlib.plot_ppi(vmin=0, vmax=50)\n",
    "\n",
    "sys.exit()"
   ]
  },
  {
   "cell_type": "markdown",
   "metadata": {},
   "source": [
    "\n",
    "### Get the static clutter levels"
   ]
  },
  {
   "cell_type": "code",
   "execution_count": null,
   "metadata": {},
   "outputs": [],
   "source": [
    "import importlib\n",
    "importlib.reload(clutter)\n",
    "import sys\n",
    "import numpy\n",
    "numpy.set_printoptions(threshold=sys.maxsize)\n",
    "\n",
    "import time\n",
    "\n",
    "var = \"DBZH\"\n",
    "#var = \"TH\"\n",
    "start = time.time()\n",
    "cmap = clutter.static_clutter_map(sweep,\n",
    "                                   var=var,\n",
    "#                                   csr=10\n",
    "                                   )\n",
    "print(time.time()-start)\n",
    "print(process.memory_info().rss)"
   ]
  },
  {
   "cell_type": "markdown",
   "metadata": {},
   "source": [
    "### Plot the results"
   ]
  },
  {
   "cell_type": "code",
   "execution_count": null,
   "metadata": {},
   "outputs": [],
   "source": [
    "cmap = cmap.pipe(wrl.georef.georeference_dataset)\n",
    "\n",
    "source = pvol.what[\"source\"]\n",
    "source = source.split(\"NOD:\")[1][0:5]\n",
    "\n",
    "pl.rcParams.update({'font.size': 16})\n",
    "\n",
    "datestr = \"{}-{}\".format(startdate, enddate)\n",
    "diststr = \"{}km\".format(maxdist)\n",
    "\n",
    "params = [source, var, elangle, diststr, datestr]\n",
    "titlestr = \" \".join(params)\n",
    "\n",
    "size = 12\n",
    "\n",
    "da = cmap[\"static_clutter_level\"]\n",
    "\n",
    "\n",
    "fig = pl.figure(figsize=(size*4/3,size))\n",
    "fig.suptitle(titlestr)\n",
    "pl.axis(\"off\")\n",
    "pm = da.wradlib.plot_ppi(fig=fig, vmin=0, vmax=60)\n",
    "ax = pl.gca()\n",
    "cb = pl.colorbar(pm, ax=ax, label=\"static_clutter_level\")\n",
    "filename = \"_\".join(params)\n",
    "filename = \"{}_static_clutter_level.png\".format(filename)\n",
    "pl.savefig(filename, bbox_inches='tight', format=\"png\")\n",
    "\n",
    "da = cmap[\"static_clutter_width\"]\n",
    "fig = pl.figure(figsize=(size*4/3,size))    \n",
    "fig.suptitle(titlestr)\n",
    "pl.axis(\"off\")\n",
    "pm = da.wradlib.plot_ppi(fig=fig, vmin=0, vmax=20)\n",
    "ax = pl.gca()\n",
    "cb = pl.colorbar(pm, ax=ax, label=\"static_clutter_width\")\n",
    "filename = \"_\".join(params)\n",
    "filename = \"{}_static_clutter_width.png\".format(filename)\n",
    "pl.savefig(filename, bbox_inches='tight')\n",
    "        \n",
    "        "
   ]
  },
  {
   "cell_type": "code",
   "execution_count": null,
   "metadata": {},
   "outputs": [],
   "source": []
  },
  {
   "cell_type": "code",
   "execution_count": null,
   "metadata": {},
   "outputs": [],
   "source": []
  }
 ],
 "metadata": {
  "kernelspec": {
   "display_name": "Python 3",
   "language": "python",
   "name": "python3"
  },
  "language_info": {
   "codemirror_mode": {
    "name": "ipython",
    "version": 3
   },
   "file_extension": ".py",
   "mimetype": "text/x-python",
   "name": "python",
   "nbconvert_exporter": "python",
   "pygments_lexer": "ipython3",
   "version": "3.7.6"
  },
  "toc": {
   "colors": {
    "hover_highlight": "#DAA520",
    "navigate_num": "#000000",
    "navigate_text": "#333333",
    "running_highlight": "#FF0000",
    "selected_highlight": "#FFD700",
    "sidebar_border": "#EEEEEE",
    "wrapper_background": "#FFFFFF"
   },
   "moveMenuLeft": true,
   "nav_menu": {
    "height": "102px",
    "width": "252px"
   },
   "navigate_menu": true,
   "number_sections": false,
   "sideBar": true,
   "threshold": 4,
   "toc_cell": false,
   "toc_section_display": "block",
   "toc_window_display": false,
   "widenNotebook": false
  }
 },
 "nbformat": 4,
 "nbformat_minor": 1
}
