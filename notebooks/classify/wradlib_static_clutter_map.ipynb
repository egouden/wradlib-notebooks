{
 "cells": [
  {
   "cell_type": "markdown",
   "metadata": {
    "nbsphinx": "hidden"
   },
   "source": [
    "This notebook is part of the $\\omega radlib$ documentation: https://docs.wradlib.org.\n",
    "\n",
    "Copyright (c) $\\omega radlib$ developers.\n",
    "Distributed under the MIT License. See LICENSE.txt for more info."
   ]
  },
  {
   "cell_type": "markdown",
   "metadata": {
    "collapsed": true
   },
   "source": [
    "# Static clutter map\n",
    "\n",
    "Detects the average level of the returned signal. It is recommended to use at least one month of data."
   ]
  },
  {
   "cell_type": "code",
   "execution_count": 1,
   "metadata": {},
   "outputs": [],
   "source": [
    "%load_ext line_profiler\n",
    "%load_ext memory_profiler\n",
    "\n",
    "\n",
    "import glob\n",
    "import os\n",
    "import warnings\n",
    "\n",
    "import numpy as np\n",
    "import matplotlib\n",
    "import matplotlib.pyplot as pl\n",
    "warnings.filterwarnings('ignore')\n",
    "try:\n",
    "    get_ipython().magic(\"matplotlib inline\")\n",
    "except:\n",
    "    pl.ion()\n",
    "import xarray as xr\n",
    "\n",
    "import wradlib as wrl\n",
    "import wradlib.clutter as clutter\n",
    "import wradlib.util as util\n",
    "import wradlib.vis as vis"
   ]
  },
  {
   "cell_type": "code",
   "execution_count": 2,
   "metadata": {},
   "outputs": [],
   "source": [
    "import sys\n",
    "import os\n",
    "import psutil\n",
    "process = psutil.Process(os.getpid())\n",
    "import xarray"
   ]
  },
  {
   "cell_type": "markdown",
   "metadata": {},
   "source": [
    "### Load sweep data"
   ]
  },
  {
   "cell_type": "code",
   "execution_count": 3,
   "metadata": {},
   "outputs": [
    {
     "name": "stderr",
     "output_type": "stream",
     "text": [
      "Open  : 100%|██████████| 2/2 [00:00<00:00,  6.74 Files/s]\n",
      "Concat: 100%|██████████| 2/2 [00:00<00:00, 343.64 Timesteps/s]\n",
      "Concat: 100%|██████████| 2/2 [00:00<00:00, 116.95 Timesteps/s]\n",
      "Concat: 100%|██████████| 2/2 [00:00<00:00, 186.18 Timesteps/s]\n",
      "Concat: 100%|██████████| 2/2 [00:00<00:00, 141.91 Timesteps/s]\n",
      "Concat: 100%|██████████| 2/2 [00:00<00:00, 178.39 Timesteps/s]\n",
      "Concat: 100%|██████████| 2/2 [00:00<00:00, 188.76 Timesteps/s]\n",
      "Concat: 100%|██████████| 2/2 [00:00<00:00, 135.24 Timesteps/s]\n",
      "Concat: 100%|██████████| 2/2 [00:00<00:00, 297.37 Timesteps/s]\n",
      "Concat: 100%|██████████| 2/2 [00:00<00:00, 133.77 Timesteps/s]\n",
      "Concat: 100%|██████████| 2/2 [00:00<00:00, 244.84 Timesteps/s]\n",
      "Concat: 100%|██████████| 2/2 [00:00<00:00, 210.34 Timesteps/s]\n"
     ]
    },
    {
     "name": "stdout",
     "output_type": "stream",
     "text": [
      "194699264\n",
      "dask.array<getitem, shape=(2, 360, 500), dtype=uint8, chunksize=(1, 50, 50)>\n"
     ]
    },
    {
     "ename": "SystemExit",
     "evalue": "",
     "output_type": "error",
     "traceback": [
      "An exception has occurred, use %tb to see the full traceback.\n",
      "\u001b[0;31mSystemExit\u001b[0m\n"
     ]
    }
   ],
   "source": [
    "var=\"TH\"\n",
    "nod=\"bewid\"\n",
    "#var=\"DBZH\"\n",
    "wrl_path = util.get_wradlib_data_path()\n",
    "\n",
    "if var == \"TH\":\n",
    "    basename = '*dBuZ*.vol.h5'\n",
    "if var == \"DBZH\":\n",
    "    basename = '*dBZ*.vol.h5'\n",
    "\n",
    "date=\"20190901\"\n",
    "basename = \"{}{}\".format(date,basename)\n",
    "\n",
    "\n",
    "\n",
    "files = os.path.join(wrl_path,'hdf5',nod,basename)\n",
    "files = glob.glob(files)\n",
    "files.sort()\n",
    "files = files[0:2]\n",
    "pvol = wrl.io.xarray.OdimH5(files,standard=\"cf-mandatory\",mask_and_scale=False,dim0='azimuth',chunks=50,fix_coords=['time'])\n",
    "\n",
    "print(process.memory_info().rss)\n",
    "print(pvol[\"sweep_1\"].TH.variable._data)\n",
    "sys.exit()"
   ]
  },
  {
   "cell_type": "markdown",
   "metadata": {},
   "source": [
    "\n",
    "### Select and decode data"
   ]
  },
  {
   "cell_type": "code",
   "execution_count": null,
   "metadata": {},
   "outputs": [],
   "source": [
    "maxdist = 80\n",
    "maxelev = 1\n",
    "elangles = pvol.root.sweep_fixed_angle\n",
    "select = pvol.root.sweep_group_name[elangles < 1]\n",
    "select = select.values\n",
    "for sweep in select:\n",
    "    print(sweep)\n",
    "    pvol[sweep] = pvol[sweep].sel(range=slice(0,maxdist*1E3))\n",
    "startdate = str(pvol[sweep].time.values[0])[:10]\n",
    "enddate = str(pvol[sweep].time.values[-1])[:10]\n",
    "\n",
    "print(process.memory_info().rss)\n",
    "\n"
   ]
  },
  {
   "cell_type": "markdown",
   "metadata": {},
   "source": [
    "\n",
    "### Get the static clutter levels"
   ]
  },
  {
   "cell_type": "code",
   "execution_count": null,
   "metadata": {},
   "outputs": [],
   "source": [
    "import importlib\n",
    "importlib.reload(clutter)\n",
    "import sys\n",
    "import numpy\n",
    "numpy.set_printoptions(threshold=sys.maxsize)\n",
    "\n",
    "import time\n",
    "\n",
    "for sweep in select:\n",
    "    start = time.time()\n",
    "    vardata = pvol[sweep][var]\n",
    "    pvol[sweep] = clutter.static_clutter_map(vardata)\n",
    "    print(time.time()-start)\n",
    "print(process.memory_info().rss)"
   ]
  },
  {
   "cell_type": "markdown",
   "metadata": {},
   "source": [
    "### Plot the results"
   ]
  },
  {
   "cell_type": "code",
   "execution_count": null,
   "metadata": {},
   "outputs": [],
   "source": [
    "source = pvol.root.attrs[\"institution\"]\n",
    "source = source.split(\",\")\n",
    "nod = None\n",
    "for s in source:\n",
    "    if \"WMO\" in s:\n",
    "        wmo = s.split(\":\")[1]\n",
    "        source=wmo\n",
    "    if \"NOD\" in s:\n",
    "        nod = s.split(\":\")[1]\n",
    "        source=nod\n",
    "\n",
    "\n",
    "datestr = \"{}-{}\".format(startdate, enddate)\n",
    "diststr = \"{}km\".format(maxdist)\n",
    "\n",
    "\n",
    "pvol.georeference()        \n",
    "for sweep in select:\n",
    "    elangle = str(pvol[sweep].fixed_angle.values)\n",
    "    print(elangle)\n",
    "    params = [source, var, elangle, diststr, datestr]\n",
    "    titlestr = \" \".join(params)\n",
    "    pvol[sweep] = xr.decode_cf(pvol[sweep])\n",
    "    \n",
    "    da = pvol[sweep][\"static_clutter_level\"]\n",
    "    \n",
    "    fig = pl.figure(figsize=(16,16))\n",
    "    fig.suptitle(titlestr)\n",
    "    pl.axis(\"off\")\n",
    "    pm = da.wradlib.plot_ppi(fig=fig, vmin=0, vmax=60)\n",
    "    ax = pl.gca()\n",
    "    cb = pl.colorbar(pm, ax=ax, label=\"static_clutter_level\")\n",
    "    filename = \"_\".join(params)\n",
    "    filename = \"{}_static_clutter_level.png\".format(filename)\n",
    "    pl.savefig(filename, bbox_inches='tight', format=\"png\")\n",
    "\n",
    "    da = pvol[sweep][\"static_clutter_resolution\"]\n",
    "    fig = pl.figure(figsize=(16,16))    \n",
    "    fig.suptitle(titlestr)\n",
    "    pl.axis(\"off\")\n",
    "    pm = da.wradlib.plot_ppi(fig=fig, vmin=0, vmax=10)\n",
    "    ax = pl.gca()\n",
    "    cb = pl.colorbar(pm, ax=ax, label=\"static_clutter_resolution\")\n",
    "    filename = \"_\".join(params)\n",
    "    filename = \"{}_static_clutter_resolution.png\".format(filename)\n",
    "    pl.savefig(filename, bbox_inches='tight')\n",
    "        \n",
    "        "
   ]
  },
  {
   "cell_type": "code",
   "execution_count": null,
   "metadata": {},
   "outputs": [],
   "source": []
  },
  {
   "cell_type": "code",
   "execution_count": null,
   "metadata": {},
   "outputs": [],
   "source": []
  }
 ],
 "metadata": {
  "kernelspec": {
   "display_name": "Python 3",
   "language": "python",
   "name": "python3"
  },
  "language_info": {
   "codemirror_mode": {
    "name": "ipython",
    "version": 3
   },
   "file_extension": ".py",
   "mimetype": "text/x-python",
   "name": "python",
   "nbconvert_exporter": "python",
   "pygments_lexer": "ipython3",
   "version": "3.7.5"
  },
  "toc": {
   "colors": {
    "hover_highlight": "#DAA520",
    "navigate_num": "#000000",
    "navigate_text": "#333333",
    "running_highlight": "#FF0000",
    "selected_highlight": "#FFD700",
    "sidebar_border": "#EEEEEE",
    "wrapper_background": "#FFFFFF"
   },
   "moveMenuLeft": true,
   "nav_menu": {
    "height": "102px",
    "width": "252px"
   },
   "navigate_menu": true,
   "number_sections": false,
   "sideBar": true,
   "threshold": 4,
   "toc_cell": false,
   "toc_section_display": "block",
   "toc_window_display": false,
   "widenNotebook": false
  }
 },
 "nbformat": 4,
 "nbformat_minor": 1
}
