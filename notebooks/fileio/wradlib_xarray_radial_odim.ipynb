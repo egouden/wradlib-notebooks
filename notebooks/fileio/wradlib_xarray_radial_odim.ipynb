{
 "cells": [
  {
   "cell_type": "markdown",
   "metadata": {
    "nbsphinx": "hidden"
   },
   "source": [
    "This notebook is part of the $\\omega radlib$ documentation: https://docs.wradlib.org.\n",
    "\n",
    "Copyright (c) $\\omega radlib$ developers.\n",
    "Distributed under the MIT License. See LICENSE.txt for more info."
   ]
  },
  {
   "cell_type": "markdown",
   "metadata": {},
   "source": [
    "# xarray powered Cf/Radial and ODIM_H5\n",
    "\n",
    "In this example, we read and write Cf/Radial (NetCDF) and ODIM_H5 (HDF5) data files from different sources using an xarray powered data structure."
   ]
  },
  {
   "cell_type": "code",
   "execution_count": 1,
   "metadata": {},
   "outputs": [],
   "source": [
    "import wradlib as wrl\n",
    "import warnings\n",
    "warnings.filterwarnings('ignore')\n",
    "import matplotlib.pyplot as pl\n",
    "import numpy as np\n",
    "import xarray as xr\n",
    "try:\n",
    "    get_ipython().magic(\"matplotlib inline\")\n",
    "except:\n",
    "    pl.ion()\n",
    "from wradlib.io.xarray import CfRadial, OdimH5"
   ]
  },
  {
   "cell_type": "markdown",
   "metadata": {},
   "source": [
    "## Load ODIM_H5 Volume Data"
   ]
  },
  {
   "cell_type": "code",
   "execution_count": 2,
   "metadata": {},
   "outputs": [],
   "source": [
    "fpath = 'hdf5/2019090101000500dBZ.vol.h5'\n",
    "f = wrl.util.get_wradlib_data_file(fpath)\n",
    "cf1 = OdimH5(f, standard='cf', mask_and_scale=False, georef=True, dim0=\"azimuth\")"
   ]
  },
  {
   "cell_type": "markdown",
   "metadata": {},
   "source": [
    "### Inspect root group\n",
    "\n",
    "You can use the object dictionary using cf1['root'] or the `property` cf1.root.\n",
    "\n",
    "The `sweep` dimension contains the number of scans in this radar volume. Further the dataset consists of variables (location coordinates, time_coverage) and attributes (Conventions, metadata)."
   ]
  },
  {
   "cell_type": "code",
   "execution_count": 3,
   "metadata": {},
   "outputs": [
    {
     "data": {
      "text/plain": [
       "<xarray.Dataset>\n",
       "Dimensions:              (sweep: 11)\n",
       "Dimensions without coordinates: sweep\n",
       "Data variables:\n",
       "    volume_number        int64 0\n",
       "    platform_type        <U5 'fixed'\n",
       "    instrument_type      <U5 'radar'\n",
       "    primary_axis         <U6 'axis_z'\n",
       "    time_coverage_start  <U20 '2019-09-01T01:00:05Z'\n",
       "    time_coverage_end    <U20 '2019-09-01T01:04:21Z'\n",
       "    latitude             float64 51.19\n",
       "    longitude            float64 3.064\n",
       "    altitude             float64 50.0\n",
       "    altitude_agl         float64 nan\n",
       "    sweep_group_name     (sweep) <U8 'sweep_1' 'sweep_2' ... 'sweep_11'\n",
       "    sweep_fixed_angle    (sweep) float64 0.3 0.9 1.5 2.2 ... 6.5 9.0 13.0 25.0\n",
       "    frequency            float64 nan\n",
       "    status_xml           <U4 'None'\n",
       "Attributes:\n",
       "    Conventions:          Cf/Radial\n",
       "    version:              H5rad 2.0\n",
       "    title:                None\n",
       "    institution:          WMO:06410,RAD:BX42,PLC:Jabbeke,NOD:bejab,CTY:605,CM...\n",
       "    references:           None\n",
       "    source:               None\n",
       "    history:              None\n",
       "    comment:              im/exported using wradlib\n",
       "    instrument_name:      None\n",
       "    site_name:            name of site where data were gathered\n",
       "    scan_name:            name of scan strategy used, if applicable\n",
       "    scan_id:              scan strategy id, if applicable. assumed 0 if missing\n",
       "    platform_is_mobile:   \"true\" or \"false\", assumed \"false\" if missing\n",
       "    ray_times_increase:   \"true\" or \"false\", assumed \"true\" if missing. This ...\n",
       "    field_names:          array of strings of field names present in this file.\n",
       "    time_coverage_start:  copy of time_coverage_start global variable\n",
       "    time_coverage_end:    copy of time_coverage_end global variable\n",
       "    simulated data:       \"true\" or \"false\", assumed \"false\" if missing. data...\n",
       "    instrument:           WMO:06410,RAD:BX42,PLC:Jabbeke,NOD:bejab,CTY:605,CM..."
      ]
     },
     "execution_count": 3,
     "metadata": {},
     "output_type": "execute_result"
    }
   ],
   "source": [
    "cf1.root"
   ]
  },
  {
   "cell_type": "markdown",
   "metadata": {},
   "source": [
    "### Inspect sweep group(s)\n",
    "\n",
    "The sweep-groups can be accessed via their respective keys. The dimensions consist of `range` and `time` with added coordinates `azimuth`, `elevation`, `range` and `time`. There will be variables like radar moments (DBZH etc.) and sweep-dependend metadata (like `fixed_angle`, `sweep_mode` etc.)."
   ]
  },
  {
   "cell_type": "code",
   "execution_count": 4,
   "metadata": {},
   "outputs": [
    {
     "data": {
      "text/plain": [
       "<xarray.Dataset>\n",
       "Dimensions:       (azimuth: 360, range: 598)\n",
       "Coordinates:\n",
       "    sweep_mode    <U20 ...\n",
       "    latitude      float64 ...\n",
       "    altitude      float64 ...\n",
       "    longitude     float64 ...\n",
       "    elevation     (azimuth) float32 ...\n",
       "  * azimuth       (azimuth) float32 0.5 1.5 2.5 3.5 ... 356.5 357.5 358.5 359.5\n",
       "  * range         (range) float32 250.0 750.0 1250.0 ... 298250.0 298750.0\n",
       "    y             (azimuth, range) float32 ...\n",
       "    z             (azimuth, range) float32 ...\n",
       "    gr            (azimuth, range) float32 ...\n",
       "    rays          (azimuth, range) float32 ...\n",
       "    bins          (azimuth, range) float32 ...\n",
       "    x             (azimuth, range) float32 ...\n",
       "    time          (azimuth) datetime64[ns] ...\n",
       "Data variables:\n",
       "    DBZH          (azimuth, range) uint8 ...\n",
       "    sweep_number  int64 ...\n",
       "    follow_mode   <U4 ...\n",
       "    prt_mode      <U5 ...\n",
       "    fixed_angle   float64 ..."
      ]
     },
     "execution_count": 4,
     "metadata": {},
     "output_type": "execute_result"
    }
   ],
   "source": [
    "cf1['sweep_1']"
   ]
  },
  {
   "cell_type": "code",
   "execution_count": 5,
   "metadata": {},
   "outputs": [
    {
     "name": "stdout",
     "output_type": "stream",
     "text": [
      "<xarray.Dataset>\n",
      "Dimensions:       (azimuth: 10, range: 10)\n",
      "Coordinates:\n",
      "    sweep_mode    <U20 ...\n",
      "    latitude      float64 ...\n",
      "    altitude      float64 ...\n",
      "    longitude     float64 ...\n",
      "    elevation     (azimuth) float32 ...\n",
      "  * azimuth       (azimuth) float32 345.5 346.5 347.5 ... 352.5 353.5 354.5\n",
      "  * range         (range) float32 20250.0 20750.0 21250.0 ... 24250.0 24750.0\n",
      "    y             (azimuth, range) float32 ...\n",
      "    z             (azimuth, range) float32 ...\n",
      "    gr            (azimuth, range) float32 ...\n",
      "    rays          (azimuth, range) float32 ...\n",
      "    bins          (azimuth, range) float32 ...\n",
      "    x             (azimuth, range) float32 ...\n",
      "    time          (azimuth) datetime64[ns] ...\n",
      "Data variables:\n",
      "    DBZH          (azimuth, range) uint8 ...\n",
      "    sweep_number  int64 ...\n",
      "    follow_mode   <U4 ...\n",
      "    prt_mode      <U5 ...\n",
      "    fixed_angle   float64 ...\n",
      "[[ 65  57  53  57  63  80  57  60  61  55]\n",
      " [ 62  53  57  55  67  81  51  56  57  54]\n",
      " [ 59  58  65  63 155 175  84  64  57  64]\n",
      " [ 59  57  61  63 162 189 100  70  66  65]\n",
      " [ 59  63  58  74 119 153  63  60  62  57]\n",
      " [ 69  62  62  60  67  88  60  59  68  68]\n",
      " [ 56  52  51  51  55  57  48  56  55  66]\n",
      " [ 55  48  50  53  55  64  51  53  47  53]\n",
      " [ 75  45  48  44  73  56  46  50  52  41]\n",
      " [ 58  48  55  52  58  64  58  51  49  47]]\n"
     ]
    }
   ],
   "source": [
    "sweep = cf1['sweep_1']\n",
    "sweep = sweep.isel(azimuth=slice(345,355))\n",
    "sweep = sweep.isel(range=slice(40,50))\n",
    "print(sweep)\n",
    "varname = \"TH\"\n",
    "varname = \"DBZH\"\n",
    "var = sweep[varname]\n",
    "print(var.values)"
   ]
  },
  {
   "cell_type": "markdown",
   "metadata": {},
   "source": [
    "### Plotting"
   ]
  },
  {
   "cell_type": "code",
   "execution_count": 6,
   "metadata": {},
   "outputs": [
    {
     "data": {
      "image/png": "[encoded data removed]",
      "text/plain": [
       "<Figure size 432x288 with 2 Axes>"
      ]
     },
     "metadata": {
      "needs_background": "light"
     },
     "output_type": "display_data"
    }
   ],
   "source": [
    "var.plot.pcolormesh(x='x', y='y')\n",
    "pl.gca().set_aspect('equal')"
   ]
  },
  {
   "cell_type": "code",
   "execution_count": 7,
   "metadata": {},
   "outputs": [
    {
     "data": {
      "text/plain": [
       "<matplotlib.collections.QuadMesh at 0x7f447ee7e050>"
      ]
     },
     "execution_count": 7,
     "metadata": {},
     "output_type": "execute_result"
    },
    {
     "data": {
      "image/png": "[encoded data removed]",
      "text/plain": [
       "<Figure size 720x576 with 1 Axes>"
      ]
     },
     "metadata": {
      "needs_background": "light"
     },
     "output_type": "display_data"
    }
   ],
   "source": [
    "fig = pl.figure(figsize=(10,8))\n",
    "var.wradlib.plot_ppi(fig=fig, vmin=30, vmax=180)"
   ]
  },
  {
   "cell_type": "code",
   "execution_count": 8,
   "metadata": {},
   "outputs": [],
   "source": [
    "import cartopy\n",
    "import cartopy.crs as ccrs\n",
    "import cartopy.feature as cfeature\n",
    "\n",
    "map_trans = ccrs.AzimuthalEquidistant(central_latitude=cf1['sweep_1'].latitude.values, \n",
    "                                      central_longitude=cf1['sweep_1'].longitude.values)"
   ]
  },
  {
   "cell_type": "code",
   "execution_count": 9,
   "metadata": {},
   "outputs": [
    {
     "name": "stdout",
     "output_type": "stream",
     "text": [
      "< GeoAxes: <cartopy.crs.AzimuthalEquidistant object at 0x7f447eca88f0> >\n"
     ]
    },
    {
     "data": {
      "image/png": "[encoded data removed]",
      "text/plain": [
       "<Figure size 432x288 with 1 Axes>"
      ]
     },
     "metadata": {
      "needs_background": "light"
     },
     "output_type": "display_data"
    }
   ],
   "source": [
    "map_proj = ccrs.AzimuthalEquidistant(central_latitude=cf1['sweep_1'].latitude.values, \n",
    "                                      central_longitude=cf1['sweep_1'].longitude.values)\n",
    "pm = var.wradlib.plot_ppi(proj=map_proj)\n",
    "ax = pl.gca()\n",
    "ax.gridlines(crs=map_proj)\n",
    "print(ax)"
   ]
  },
  {
   "cell_type": "code",
   "execution_count": 10,
   "metadata": {},
   "outputs": [
    {
     "data": {
      "text/plain": [
       "<cartopy.mpl.gridliner.Gridliner at 0x7f4482f44890>"
      ]
     },
     "execution_count": 10,
     "metadata": {},
     "output_type": "execute_result"
    },
    {
     "data": {
      "image/png": "[encoded data removed]",
      "text/plain": [
       "<Figure size 720x576 with 1 Axes>"
      ]
     },
     "metadata": {
      "needs_background": "light"
     },
     "output_type": "display_data"
    }
   ],
   "source": [
    "map_proj = ccrs.Mercator(central_longitude=cf1['sweep_1'].longitude.values)\n",
    "fig = pl.figure(figsize=(10,8))\n",
    "ax = fig.add_subplot(111, projection=map_proj)\n",
    "pm = cf1['sweep_1'].DBZH.wradlib.plot_ppi(ax=ax)\n",
    "ax.gridlines(draw_labels=True)"
   ]
  },
  {
   "cell_type": "code",
   "execution_count": 11,
   "metadata": {},
   "outputs": [
    {
     "ename": "NameError",
     "evalue": "name 'DBZH' is not defined",
     "output_type": "error",
     "traceback": [
      "\u001b[0;31m---------------------------------------------------------------------------\u001b[0m",
      "\u001b[0;31mNameError\u001b[0m                                 Traceback (most recent call last)",
      "\u001b[0;32m<ipython-input-11-4e55136ee257>\u001b[0m in \u001b[0;36m<module>\u001b[0;34m\u001b[0m\n\u001b[1;32m     11\u001b[0m \u001b[0max\u001b[0m \u001b[0;34m=\u001b[0m \u001b[0mfig\u001b[0m\u001b[0;34m.\u001b[0m\u001b[0madd_subplot\u001b[0m\u001b[0;34m(\u001b[0m\u001b[0;36m111\u001b[0m\u001b[0;34m,\u001b[0m \u001b[0mprojection\u001b[0m\u001b[0;34m=\u001b[0m\u001b[0mmap_proj\u001b[0m\u001b[0;34m)\u001b[0m\u001b[0;34m\u001b[0m\u001b[0;34m\u001b[0m\u001b[0m\n\u001b[1;32m     12\u001b[0m \u001b[0;34m\u001b[0m\u001b[0m\n\u001b[0;32m---> 13\u001b[0;31m \u001b[0mpm\u001b[0m \u001b[0;34m=\u001b[0m \u001b[0mvar\u001b[0m\u001b[0;34m.\u001b[0m\u001b[0mwhere\u001b[0m\u001b[0;34m(\u001b[0m\u001b[0mDBZH\u001b[0m \u001b[0;34m>\u001b[0m \u001b[0;36m0\u001b[0m\u001b[0;34m)\u001b[0m\u001b[0;34m.\u001b[0m\u001b[0mwradlib\u001b[0m\u001b[0;34m.\u001b[0m\u001b[0mplot_ppi\u001b[0m\u001b[0;34m(\u001b[0m\u001b[0max\u001b[0m\u001b[0;34m=\u001b[0m\u001b[0max\u001b[0m\u001b[0;34m)\u001b[0m\u001b[0;34m\u001b[0m\u001b[0;34m\u001b[0m\u001b[0m\n\u001b[0m\u001b[1;32m     14\u001b[0m \u001b[0mplot_borders\u001b[0m\u001b[0;34m(\u001b[0m\u001b[0max\u001b[0m\u001b[0;34m)\u001b[0m\u001b[0;34m\u001b[0m\u001b[0;34m\u001b[0m\u001b[0m\n\u001b[1;32m     15\u001b[0m \u001b[0max\u001b[0m\u001b[0;34m.\u001b[0m\u001b[0mgridlines\u001b[0m\u001b[0;34m(\u001b[0m\u001b[0mdraw_labels\u001b[0m\u001b[0;34m=\u001b[0m\u001b[0;32mTrue\u001b[0m\u001b[0;34m)\u001b[0m\u001b[0;34m\u001b[0m\u001b[0;34m\u001b[0m\u001b[0m\n",
      "\u001b[0;31mNameError\u001b[0m: name 'DBZH' is not defined"
     ]
    },
    {
     "data": {
      "image/png": "[encoded data removed]",
      "text/plain": [
       "<Figure size 720x576 with 1 Axes>"
      ]
     },
     "metadata": {
      "needs_background": "light"
     },
     "output_type": "display_data"
    }
   ],
   "source": [
    "import cartopy.feature as cfeature\n",
    "def plot_borders(ax):\n",
    "    borders = cfeature.NaturalEarthFeature(category='physical',\n",
    "                                           name='coastline',\n",
    "                                           scale='10m',\n",
    "                                           facecolor='none')\n",
    "    ax.add_feature(borders, edgecolor='black', lw=2, zorder=4)\n",
    "\n",
    "map_proj = ccrs.Mercator(central_longitude=cf1['sweep_1'].longitude.values)\n",
    "fig = pl.figure(figsize=(10,8))\n",
    "ax = fig.add_subplot(111, projection=map_proj)\n",
    "\n",
    "pm = var.where(DBZH > 0).wradlib.plot_ppi(ax=ax)\n",
    "plot_borders(ax)\n",
    "ax.gridlines(draw_labels=True)"
   ]
  },
  {
   "cell_type": "code",
   "execution_count": null,
   "metadata": {},
   "outputs": [],
   "source": [
    "# Compute a circle in axes coordinates, which we can use as a boundary\n",
    "# for the map. We can pan/zoom as much as we like - the boundary will be\n",
    "# permanently circular.\n",
    "import matplotlib.path as mpath\n",
    "theta = np.linspace(0, 2*np.pi, 100)\n",
    "center, radius = [0.5, 0.5], 0.5\n",
    "verts = np.vstack([np.sin(theta), np.cos(theta)]).T\n",
    "circle = mpath.Path(verts * radius + center)\n",
    "\n",
    "map_proj = ccrs.AzimuthalEquidistant(central_latitude=cf1['sweep_1'].latitude.values, \n",
    "                                     central_longitude=cf1['sweep_1'].longitude.values,\n",
    "                                    )\n",
    "pm = var.wradlib.plot_ppi(proj=map_proj)\n",
    "ax = pl.gca()\n",
    "ax.gridlines(crs=map_proj)\n",
    "ax.set_boundary(circle, transform=ax.transAxes)\n"
   ]
  },
  {
   "cell_type": "code",
   "execution_count": null,
   "metadata": {},
   "outputs": [],
   "source": [
    "fig = pl.figure(figsize=(10, 8))\n",
    "proj=ccrs.AzimuthalEquidistant(central_latitude=cf1['sweep_1'].latitude.values, \n",
    "                               central_longitude=cf1['sweep_1'].longitude.values)\n",
    "ax = fig.add_subplot(111, projection=proj)\n",
    "pm = var.wradlib.plot_ppi(ax=ax)\n",
    "ax.gridlines()"
   ]
  },
  {
   "cell_type": "code",
   "execution_count": null,
   "metadata": {},
   "outputs": [],
   "source": [
    "var.wradlib.plot_ppi()"
   ]
  },
  {
   "cell_type": "markdown",
   "metadata": {},
   "source": [
    "### Inspect radar moments\n",
    "\n",
    "The dataarrays can be accessed by key or by attribute. Each dataarray has the datasets dimensions and coordinates of it's parent dataset. There are attributes connected which are defined by Cf/Radial and/or ODIM_H5 standard."
   ]
  },
  {
   "cell_type": "code",
   "execution_count": null,
   "metadata": {},
   "outputs": [],
   "source": [
    "var"
   ]
  },
  {
   "cell_type": "code",
   "execution_count": null,
   "metadata": {},
   "outputs": [],
   "source": [
    "cf1['sweep_1']"
   ]
  },
  {
   "cell_type": "markdown",
   "metadata": {},
   "source": [
    "### Create simple plot\n",
    "\n",
    "Using xarray features a simple plot can be created like this. Note the `sortby('azimuth')` method, which sorts the radials by azimuth."
   ]
  },
  {
   "cell_type": "code",
   "execution_count": null,
   "metadata": {},
   "outputs": [],
   "source": [
    "cf1['sweep_1'].sortby('azimuth')[varname].plot(add_labels=False)"
   ]
  },
  {
   "cell_type": "code",
   "execution_count": null,
   "metadata": {},
   "outputs": [],
   "source": [
    "pm = var.wradlib.plot_ppi(proj={'latmin': 33e3})"
   ]
  },
  {
   "cell_type": "code",
   "execution_count": null,
   "metadata": {},
   "outputs": [],
   "source": [
    "cf1.to_odim('knmi_odim.h5')\n",
    "cf1.to_cfradial2('knmi_odim_as_cfradial.nc')"
   ]
  },
  {
   "cell_type": "markdown",
   "metadata": {},
   "source": [
    "### Import again"
   ]
  },
  {
   "cell_type": "code",
   "execution_count": null,
   "metadata": {},
   "outputs": [],
   "source": [
    "cf1a = OdimH5('knmi_odim.h5', standard='cf', georef=True)\n",
    "cf1b = CfRadial('knmi_odim_as_cfradial.nc', dim0='azimuth', georef=True)"
   ]
  },
  {
   "cell_type": "code",
   "execution_count": null,
   "metadata": {},
   "outputs": [],
   "source": [
    "cf1a['sweep_1']"
   ]
  },
  {
   "cell_type": "markdown",
   "metadata": {},
   "source": [
    "### Check equality"
   ]
  },
  {
   "cell_type": "code",
   "execution_count": null,
   "metadata": {},
   "outputs": [],
   "source": [
    "xr.testing.assert_equal(cf1.root, cf1a.root)\n",
    "xr.testing.assert_equal(cf1['sweep_1'], cf1a['sweep_1'])\n",
    "xr.testing.assert_equal(cf1.root, cf1b.root)\n",
    "xr.testing.assert_equal(cf1['sweep_1'], cf1b['sweep_1'])"
   ]
  },
  {
   "cell_type": "markdown",
   "metadata": {},
   "source": [
    "### Mask some values"
   ]
  },
  {
   "cell_type": "code",
   "execution_count": null,
   "metadata": {},
   "outputs": [],
   "source": [
    "cf1['sweep_1']['DBZH'] = cf1['sweep_1']['DBZH'].where(cf1['sweep_1']['DBZH'] >= 0)\n",
    "cf1['sweep_1']['DBZH'].sortby('azimuth').plot()"
   ]
  },
  {
   "cell_type": "markdown",
   "metadata": {},
   "source": [
    "## Load Cf/Radial1 Volume Data"
   ]
  },
  {
   "cell_type": "code",
   "execution_count": null,
   "metadata": {},
   "outputs": [],
   "source": [
    "fpath = 'netcdf/cfrad.20080604_002217_000_SPOL_v36_SUR.nc'\n",
    "f = wrl.util.get_wradlib_data_file(fpath)\n",
    "cf2 = CfRadial(f, georef=True)"
   ]
  },
  {
   "cell_type": "markdown",
   "metadata": {},
   "source": [
    "### Inspect root group"
   ]
  },
  {
   "cell_type": "code",
   "execution_count": null,
   "metadata": {},
   "outputs": [],
   "source": [
    "cf2.root"
   ]
  },
  {
   "cell_type": "markdown",
   "metadata": {},
   "source": [
    "### Inspect sweep group(s)"
   ]
  },
  {
   "cell_type": "code",
   "execution_count": null,
   "metadata": {},
   "outputs": [],
   "source": [
    "cf2['sweep_1']"
   ]
  },
  {
   "cell_type": "markdown",
   "metadata": {},
   "source": [
    "### Inspect radar moments"
   ]
  },
  {
   "cell_type": "code",
   "execution_count": null,
   "metadata": {},
   "outputs": [],
   "source": [
    "cf2['sweep_1'].DBZ"
   ]
  },
  {
   "cell_type": "markdown",
   "metadata": {},
   "source": [
    "### Create simple plot"
   ]
  },
  {
   "cell_type": "code",
   "execution_count": null,
   "metadata": {},
   "outputs": [],
   "source": [
    "cf2['sweep_1'].DBZ.plot()"
   ]
  },
  {
   "cell_type": "code",
   "execution_count": null,
   "metadata": {},
   "outputs": [],
   "source": [
    "cf2['sweep_1'].DBZ.plot.pcolormesh(x='x', y='y', add_labels=False)\n",
    "pl.gca().set_aspect('equal')"
   ]
  },
  {
   "cell_type": "markdown",
   "metadata": {},
   "source": [
    "### Use wradlib DataArray connector"
   ]
  },
  {
   "cell_type": "code",
   "execution_count": null,
   "metadata": {},
   "outputs": [],
   "source": [
    "pm = cf2['sweep_1'].DBZ.wradlib.plot_ppi()"
   ]
  },
  {
   "cell_type": "code",
   "execution_count": null,
   "metadata": {},
   "outputs": [],
   "source": [
    "pm = cf2['sweep_1'].DBZ.wradlib.plot_ppi(proj='cg')"
   ]
  },
  {
   "cell_type": "markdown",
   "metadata": {},
   "source": [
    "### Export data to Cf/Radial2 and ODIM_H5"
   ]
  },
  {
   "cell_type": "code",
   "execution_count": null,
   "metadata": {},
   "outputs": [],
   "source": [
    "cf2.to_cfradial2('timrex_cfradial2.nc')\n",
    "cf2.to_odim('timrex_cfradial_as_odim.h5')"
   ]
  },
  {
   "cell_type": "markdown",
   "metadata": {},
   "source": [
    "### Import again"
   ]
  },
  {
   "cell_type": "code",
   "execution_count": null,
   "metadata": {},
   "outputs": [],
   "source": [
    "cf2a = CfRadial('timrex_cfradial2.nc', georef=True)\n",
    "cf2b = OdimH5('timrex_cfradial_as_odim.h5', standard='cf', georef=True)"
   ]
  },
  {
   "cell_type": "code",
   "execution_count": null,
   "metadata": {},
   "outputs": [],
   "source": [
    "cf2a['sweep_1'].DBZ.plot.pcolormesh(x='x', y='y', add_labels=False)\n",
    "pl.gca().set_aspect('equal')"
   ]
  },
  {
   "cell_type": "code",
   "execution_count": null,
   "metadata": {},
   "outputs": [],
   "source": [
    "cf2b['sweep_1'].DBZ.plot.pcolormesh(x='x', y='y', add_labels=False)\n",
    "pl.gca().set_aspect('equal')"
   ]
  },
  {
   "cell_type": "markdown",
   "metadata": {},
   "source": [
    "### Check equality\n",
    "\n",
    "For Cf/Radial there are issues with nan, which need to be fixed. For the ODIM_H5 intercomparison there are too problems with nan and issues with attributes."
   ]
  },
  {
   "cell_type": "code",
   "execution_count": null,
   "metadata": {},
   "outputs": [],
   "source": [
    "xr.testing.assert_equal(cf2.root, cf2a.root)\n",
    "xr.testing.assert_equal(cf2['sweep_1'].drop(['DBZ', 'VR']), \n",
    "                        cf2a['sweep_1'].drop(['DBZ', 'VR']))\n",
    "\n",
    "xr.testing.assert_allclose(cf2.root.time_coverage_start, \n",
    "                           cf2b.root.time_coverage_start)"
   ]
  }
 ],
 "metadata": {
  "kernelspec": {
   "display_name": "Python 3",
   "language": "python",
   "name": "python3"
  },
  "language_info": {
   "codemirror_mode": {
    "name": "ipython",
    "version": 3
   },
   "file_extension": ".py",
   "mimetype": "text/x-python",
   "name": "python",
   "nbconvert_exporter": "python",
   "pygments_lexer": "ipython3",
   "version": "3.7.5"
  }
 },
 "nbformat": 4,
 "nbformat_minor": 2
}
